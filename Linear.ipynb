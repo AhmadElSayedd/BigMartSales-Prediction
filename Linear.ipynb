{
 "cells": [
  {
   "cell_type": "code",
   "execution_count": 1,
   "id": "a6d81ed9",
   "metadata": {
    "_cell_guid": "b1076dfc-b9ad-4769-8c92-a6c4dae69d19",
    "_uuid": "8f2839f25d086af736a60e9eeb907d3b93b6e0e5",
    "execution": {
     "iopub.execute_input": "2024-12-27T16:05:09.145555Z",
     "iopub.status.busy": "2024-12-27T16:05:09.145091Z",
     "iopub.status.idle": "2024-12-27T16:05:12.408857Z",
     "shell.execute_reply": "2024-12-27T16:05:12.405840Z"
    },
    "papermill": {
     "duration": 3.271551,
     "end_time": "2024-12-27T16:05:12.413145",
     "exception": false,
     "start_time": "2024-12-27T16:05:09.141594",
     "status": "completed"
    },
    "tags": []
   },
   "outputs": [
    {
     "name": "stdout",
     "output_type": "stream",
     "text": [
      "Mean Absolute Error (MAE): 0.4425440830298246\n"
     ]
    }
   ],
   "source": [
    "import pandas as pd\n",
    "import numpy as np\n",
    "from sklearn.preprocessing import LabelEncoder, MinMaxScaler, StandardScaler\n",
    "from sklearn.preprocessing import OneHotEncoder\n",
    "from sklearn.linear_model import LinearRegression\n",
    "from sklearn.impute import KNNImputer\n",
    "from sklearn.model_selection import train_test_split\n",
    "from sklearn.metrics import mean_absolute_error, mean_squared_error\n",
    "import warnings\n",
    "warnings.filterwarnings(\"ignore\")\n",
    "\n",
    "df = pd.read_csv(\"/kaggle/input/cse-281-24-predict-the-item-price/train.csv\")\n",
    "df_test = pd.read_csv(\"/kaggle/input/cse-281-24-predict-the-item-price/test.csv\")\n",
    "\n",
    "# Preprocessing steps\n",
    "df['X8'] = 2024 - df['X8']\n",
    "\n",
    "df['X3'].replace({'LF': 'Low Fat', 'low fat': 'Low Fat', 'reg': 'Regular'}, inplace=True)\n",
    "df_test['X3'].replace({'LF': 'Low Fat', 'low fat': 'Low Fat', 'reg': 'Regular'}, inplace=True)\n",
    "\n",
    "imputer = KNNImputer(n_neighbors=5)\n",
    "df['X2'] = imputer.fit_transform(df[['X2']])\n",
    "df_test['X2'] = imputer.transform(df_test[['X2']])\n",
    "\n",
    "mode_X9 = df['X9'].mode()[0]\n",
    "df['X9'].fillna(mode_X9, inplace=True)\n",
    "df_test['X9'].fillna(mode_X9, inplace=True)\n",
    "\n",
    "df['X1'] = df['X1'].apply(lambda x: x[:2])\n",
    "df_test['X1'] = df_test['X1'].apply(lambda x: x[:2])\n",
    "df.replace({'X1': {'FD': 'Food', 'DR': 'Drink', 'NC': 'Non Consumable'}}, inplace=True)\n",
    "df_test.replace({'X1': {'FD': 'Food', 'DR': 'Drink', 'NC': 'Non Consumable'}}, inplace=True)\n",
    "\n",
    "#Label encode the categorical columns that have an order\n",
    "label_encoder = LabelEncoder()\n",
    "df['X9'] = label_encoder.fit_transform(df['X9'])\n",
    "df_test['X9'] = label_encoder.transform(df_test['X9'])\n",
    "df['X10'] = label_encoder.fit_transform(df['X10'])\n",
    "df_test['X10'] = label_encoder.transform(df_test['X10'])\n",
    "df['X11'] = label_encoder.fit_transform(df['X11'])\n",
    "df_test['X11'] = label_encoder.transform(df_test['X11'])\n",
    "\n",
    "columns_to_encode = ['X1', 'X3', 'X5', 'X7']\n",
    "df = pd.get_dummies(df, columns=columns_to_encode, prefix_sep='_')\n",
    "df_test = pd.get_dummies(df_test, columns=columns_to_encode, prefix_sep ='_')\n",
    "\n",
    "#We Scale the numerical columns, as linear reg requires scaling for optimum predictions\n",
    "features_to_scale = ['X2', 'X4', 'X6', 'X8' ,'X9' ,'X10' ,'X11' ]\n",
    "scaler = MinMaxScaler()\n",
    "df[features_to_scale] = scaler.fit_transform(df[features_to_scale])\n",
    "df_test[features_to_scale] = scaler.transform(df_test[features_to_scale])\n",
    "\n",
    "features = []\n",
    "for col in df.columns:\n",
    "    if df[col].corr(df['Y']) >= 0.25 or df[col].corr(df['Y']) <= -0.25:\n",
    "        features.append(col)\n",
    "features.remove('Y')\n",
    "\n",
    "X = df[features]\n",
    "y = df['Y']\n",
    "x_test = df_test[features]\n",
    "\n",
    "linear_model = LinearRegression()\n",
    "linear_model.fit(X, y)\n",
    "y_pred = linear_model.predict(x_test)\n",
    "\n",
    "submission = pd.DataFrame({'Y': y_pred})\n",
    "submission['row_id'] = range(submission.shape[0])\n",
    "submission = submission[['row_id', 'Y']]\n",
    "submission.to_csv('submission.csv', index=False)\n",
    "\n",
    "from sklearn.model_selection import train_test_split\n",
    "\n",
    "X = df[features]\n",
    "y = df['Y']\n",
    "\n",
    "X_train, X_test, y_train, y_test = train_test_split(X, y, test_size=0.2, random_state=42)\n",
    "\n",
    "linear_model = LinearRegression()\n",
    "linear_model.fit(X_train, y_train)\n",
    "\n",
    "y_pred_test = linear_model.predict(X_test)\n",
    "\n",
    "mae = mean_absolute_error(y_test, y_pred_test)\n",
    "print(f\"Mean Absolute Error (MAE): {mae}\")"
   ]
  }
 ],
 "metadata": {
  "kaggle": {
   "accelerator": "none",
   "dataSources": [
    {
     "databundleVersionId": 10325275,
     "sourceId": 89555,
     "sourceType": "competition"
    }
   ],
   "dockerImageVersionId": 30822,
   "isGpuEnabled": false,
   "isInternetEnabled": false,
   "language": "python",
   "sourceType": "notebook"
  },
  "kernelspec": {
   "display_name": "Python 3",
   "language": "python",
   "name": "python3"
  },
  "language_info": {
   "codemirror_mode": {
    "name": "ipython",
    "version": 3
   },
   "file_extension": ".py",
   "mimetype": "text/x-python",
   "name": "python",
   "nbconvert_exporter": "python",
   "pygments_lexer": "ipython3",
   "version": "3.10.12"
  },
  "papermill": {
   "default_parameters": {},
   "duration": 6.386105,
   "end_time": "2024-12-27T16:05:13.144839",
   "environment_variables": {},
   "exception": null,
   "input_path": "__notebook__.ipynb",
   "output_path": "__notebook__.ipynb",
   "parameters": {},
   "start_time": "2024-12-27T16:05:06.758734",
   "version": "2.6.0"
  }
 },
 "nbformat": 4,
 "nbformat_minor": 5
}
