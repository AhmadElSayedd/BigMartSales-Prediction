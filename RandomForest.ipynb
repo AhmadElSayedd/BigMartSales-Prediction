{
 "cells": [
  {
   "cell_type": "code",
   "execution_count": 1,
   "id": "2a2d6e6f",
   "metadata": {
    "_cell_guid": "b1076dfc-b9ad-4769-8c92-a6c4dae69d19",
    "_uuid": "8f2839f25d086af736a60e9eeb907d3b93b6e0e5",
    "execution": {
     "iopub.execute_input": "2024-12-27T16:09:32.704899Z",
     "iopub.status.busy": "2024-12-27T16:09:32.704476Z",
     "iopub.status.idle": "2024-12-27T16:09:41.519452Z",
     "shell.execute_reply": "2024-12-27T16:09:41.518149Z"
    },
    "papermill": {
     "duration": 8.820445,
     "end_time": "2024-12-27T16:09:41.521661",
     "exception": false,
     "start_time": "2024-12-27T16:09:32.701216",
     "status": "completed"
    },
    "tags": []
   },
   "outputs": [
    {
     "name": "stdout",
     "output_type": "stream",
     "text": [
      "Mean Absolute Error (MAE): 0.43724090555555556\n"
     ]
    }
   ],
   "source": [
    "import pandas as pd\n",
    "import numpy as np\n",
    "from sklearn.preprocessing import LabelEncoder\n",
    "from sklearn.ensemble import RandomForestRegressor\n",
    "from sklearn.model_selection import train_test_split\n",
    "from sklearn.metrics import mean_absolute_error\n",
    "import warnings\n",
    "warnings.filterwarnings(\"ignore\")\n",
    "\n",
    "# Load the data\n",
    "df = pd.read_csv(\"/kaggle/input/cse-281-24-predict-the-item-price/train.csv\")\n",
    "df_test = pd.read_csv(\"/kaggle/input/cse-281-24-predict-the-item-price/test.csv\")\n",
    "\n",
    "# Filling Missing Data\n",
    "df['X3'].replace({'LF': 'Low Fat', 'low fat': 'Low Fat', 'reg': 'Regular'}, inplace=True)\n",
    "df_test['X3'].replace({'LF': 'Low Fat', 'low fat': 'Low Fat', 'reg': 'Regular'}, inplace=True)\n",
    "\n",
    "df['X2'].fillna(df['X2'].mean(), inplace=True)\n",
    "df_test['X2'].fillna(df_test['X2'].mean(), inplace=True)\n",
    "\n",
    "mode_X9 = df.groupby('X11')['X9'].apply(lambda x: x.mode()[0])\n",
    "df['X9'].fillna(df['X11'].map(mode_X9), inplace=True)\n",
    "df_test['X9'].fillna(df_test['X11'].map(mode_X9), inplace=True)\n",
    "\n",
    "df['X1'] = df['X1'].apply(lambda x: x[:2])\n",
    "df_test['X1'] = df_test['X1'].apply(lambda x: x[:2])\n",
    "df.replace({'X1': {'FD': 'Food', 'DR': 'Drink', 'NC': 'Non Consumable'}}, inplace=True)\n",
    "df_test.replace({'X1': {'FD': 'Food', 'DR': 'Drink', 'NC': 'Non Consumable'}}, inplace=True)\n",
    "\n",
    "# Encoding\n",
    "label_encoder = LabelEncoder()\n",
    "df['X9'] = label_encoder.fit_transform(df['X9'])\n",
    "df_test['X9'] = label_encoder.transform(df_test['X9'])\n",
    "df['X10'] = label_encoder.fit_transform(df['X10'])\n",
    "df_test['X10'] = label_encoder.transform(df_test['X10'])\n",
    "df['X11'] = label_encoder.fit_transform(df['X11'])\n",
    "df_test['X11'] = label_encoder.transform(df_test['X11'])\n",
    "\n",
    "columns_to_encode = ['X1', 'X3', 'X5', 'X7']\n",
    "df = pd.get_dummies(df, columns=columns_to_encode, prefix_sep='_')\n",
    "df_test = pd.get_dummies(df_test, columns=columns_to_encode, prefix_sep='_')\n",
    "\n",
    "# Feature selection\n",
    "columns_to_test = ['X2', 'X4', 'X9', 'X6', 'X8', 'X10', 'X11']\n",
    "features = []\n",
    "\n",
    "for col in df.columns:\n",
    "    if df[col].corr(df['Y']) >= 0.25 or df[col].corr(df['Y']) <= -0.25:\n",
    "        features.append(col)\n",
    "\n",
    "temp_list = []\n",
    "for col1 in columns_to_test:\n",
    "    temp_list.append(col1)\n",
    "    for col2 in columns_to_test:\n",
    "        if col2 not in temp_list:\n",
    "            df[f'{col1}_{col2}'] = df[col1] * df[col2]\n",
    "            df_test[f'{col1}_{col2}'] = df_test[col1] * df_test[col2]\n",
    "            if df[f'{col1}_{col2}'].corr(df['Y']) >= 0.4 or df[f'{col1}_{col2}'].corr(df['Y']) <= -0.4:\n",
    "                features.append(f'{col1}_{col2}')\n",
    "\n",
    "features.remove('Y')\n",
    "\n",
    "# Splitting data into features and target\n",
    "X = df[features]\n",
    "y = df['Y']\n",
    "x_test = df_test[features]\n",
    "\n",
    "# Model training and predictions for submission\n",
    "rf_model = RandomForestRegressor(n_estimators=100, random_state=321)\n",
    "rf_model.fit(X, y)\n",
    "\n",
    "y_pred = rf_model.predict(x_test)\n",
    "\n",
    "# Prepare submission file\n",
    "submission = pd.DataFrame({'Y': y_pred})\n",
    "submission['row_id'] = range(submission.shape[0])\n",
    "submission = submission[['row_id', 'Y']]\n",
    "submission.to_csv('submission.csv', index=False)\n",
    "\n",
    "# Model evaluation using train-test split\n",
    "X_train, X_test, y_train, y_test = train_test_split(X, y, test_size=0.2, random_state=321)\n",
    "\n",
    "rf_model = RandomForestRegressor(n_estimators=100, random_state=321)\n",
    "rf_model.fit(X_train, y_train)\n",
    "\n",
    "y_pred_test = rf_model.predict(X_test)\n",
    "\n",
    "mae = mean_absolute_error(y_test, y_pred_test)\n",
    "print(f\"Mean Absolute Error (MAE): {mae}\")"
   ]
  }
 ],
 "metadata": {
  "kaggle": {
   "accelerator": "none",
   "dataSources": [
    {
     "databundleVersionId": 10325275,
     "sourceId": 89555,
     "sourceType": "competition"
    }
   ],
   "dockerImageVersionId": 30822,
   "isGpuEnabled": false,
   "isInternetEnabled": true,
   "language": "python",
   "sourceType": "notebook"
  },
  "kernelspec": {
   "display_name": "Python 3",
   "language": "python",
   "name": "python3"
  },
  "language_info": {
   "codemirror_mode": {
    "name": "ipython",
    "version": 3
   },
   "file_extension": ".py",
   "mimetype": "text/x-python",
   "name": "python",
   "nbconvert_exporter": "python",
   "pygments_lexer": "ipython3",
   "version": "3.10.12"
  },
  "papermill": {
   "default_parameters": {},
   "duration": 11.877883,
   "end_time": "2024-12-27T16:09:42.244308",
   "environment_variables": {},
   "exception": null,
   "input_path": "__notebook__.ipynb",
   "output_path": "__notebook__.ipynb",
   "parameters": {},
   "start_time": "2024-12-27T16:09:30.366425",
   "version": "2.6.0"
  }
 },
 "nbformat": 4,
 "nbformat_minor": 5
}
