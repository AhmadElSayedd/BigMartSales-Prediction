{
 "cells": [
  {
   "cell_type": "code",
   "execution_count": 1,
   "id": "e1d1616b",
   "metadata": {
    "_cell_guid": "b1076dfc-b9ad-4769-8c92-a6c4dae69d19",
    "_uuid": "8f2839f25d086af736a60e9eeb907d3b93b6e0e5",
    "execution": {
     "iopub.execute_input": "2024-12-27T20:50:35.249675Z",
     "iopub.status.busy": "2024-12-27T20:50:35.249303Z",
     "iopub.status.idle": "2024-12-27T20:50:44.549007Z",
     "shell.execute_reply": "2024-12-27T20:50:44.547306Z"
    },
    "papermill": {
     "duration": 9.305661,
     "end_time": "2024-12-27T20:50:44.550997",
     "exception": false,
     "start_time": "2024-12-27T20:50:35.245336",
     "status": "completed"
    },
    "tags": []
   },
   "outputs": [
    {
     "name": "stdout",
     "output_type": "stream",
     "text": [
      "Done!\n"
     ]
    }
   ],
   "source": [
    "#submit this\n",
    "\n",
    "import pandas as pd\n",
    "import numpy as np\n",
    "import matplotlib.pyplot as plt\n",
    "from sklearn.preprocessing import LabelEncoder, MinMaxScaler, StandardScaler\n",
    "from sklearn.preprocessing import OneHotEncoder, PolynomialFeatures\n",
    "from sklearn.linear_model import LinearRegression\n",
    "from sklearn.impute import KNNImputer\n",
    "from xgboost import XGBRegressor\n",
    "from sklearn.model_selection import GridSearchCV\n",
    "from sklearn.ensemble import RandomForestRegressor\n",
    "from sklearn.model_selection import train_test_split\n",
    "import xgboost as xgb\n",
    "from sklearn.metrics import mean_squared_error\n",
    "from sklearn.svm import SVR\n",
    "from sklearn.metrics import mean_absolute_error, mean_squared_error\n",
    "import warnings\n",
    "warnings.filterwarnings(\"ignore\")\n",
    "\n",
    "df = pd.read_csv(\"/kaggle/input/cse-281-24-predict-the-item-price/train.csv\")\n",
    "df_test = pd.read_csv(\"/kaggle/input/cse-281-24-predict-the-item-price/test.csv\")\n",
    "\n",
    "df['X8'] = 2024 - df['X8']\n",
    "\n",
    "replacement_mapping_X3 = {\n",
    "    'LF': 'Low Fat',\n",
    "    'low fat': 'Low Fat',\n",
    "    'reg': 'Regular'\n",
    "}\n",
    "df['X3'] = df['X3'].replace(replacement_mapping_X3)\n",
    "df_test['X3'] = df_test['X3'].replace(replacement_mapping_X3)\n",
    "\n",
    "df['X2'].fillna(df['X2'].mean(), inplace=True)\n",
    "df_test['X2'].fillna(df['X2'].mean(), inplace=True)\n",
    "\n",
    "mode_X9 = df.pivot_table(values = 'X9', index = 'X11', aggfunc=(lambda x: x.mode()[0]))\n",
    "\n",
    "missing_values = df['X9'].isnull()\n",
    "df.loc[missing_values, 'X9'] = df.loc[missing_values, 'X11'].apply(lambda x: mode_X9.loc[x])\n",
    "missing_values_test = df_test['X9'].isnull()\n",
    "df_test.loc[missing_values_test, 'X9'] = df_test.loc[missing_values_test, 'X11'].apply(lambda x: mode_X9.loc[x])\n",
    "\n",
    "df['X1'] = df['X1'].apply(lambda x: x[:2])\n",
    "df_test['X1'] = df_test['X1'].apply(lambda x: x[:2])\n",
    "\n",
    "df.replace({'X1': {'FD': 'Food', 'DR':'Drink','NC':'Non Consumable'}}, inplace = True)\n",
    "df_test.replace({'X1': {'FD': 'Food', 'DR':'Drink','NC':'Non Consumable'}}, inplace = True)\n",
    "\n",
    "le = LabelEncoder()\n",
    "\n",
    "df['X9'] = le.fit_transform(df['X9'])\n",
    "df_test['X9'] = le.transform(df_test['X9'])\n",
    "df['X10'] = le.fit_transform(df['X10'])\n",
    "df_test['X10'] = le.transform(df_test['X10'])\n",
    "df['X11'] = le.fit_transform(df['X11'])\n",
    "df_test['X11'] = le.transform(df_test['X11'])\n",
    "\n",
    "columns_to_encode = ['X1', 'X3', 'X5', 'X7']\n",
    "df = pd.get_dummies(df, columns=columns_to_encode, prefix_sep='_')\n",
    "df_test = pd.get_dummies(df_test, columns=columns_to_encode, prefix_sep ='_')\n",
    "\n",
    "df.drop('X5_Others', axis=1)\n",
    "\n",
    "features = []\n",
    "for col in df.columns:\n",
    "    if df[col].corr(df['Y']) >= 0.2 or df[col].corr(df['Y']) <= -0.2:\n",
    "        features.append(col)\n",
    "\n",
    "features.remove('Y')\n",
    "features_to_scale = ['X4', 'X6', 'X8','X9', 'X11']\n",
    "scaler = MinMaxScaler()\n",
    "df[features_to_scale] = scaler.fit_transform(df[features_to_scale])\n",
    "df_test[features_to_scale] = scaler.transform(df_test[features_to_scale])\n",
    "\n",
    "X = df[features]\n",
    "y = df['Y']\n",
    "x_test = df_test[features]\n",
    "\n",
    "svr_model = SVR(kernel='rbf', C=1000, epsilon=0.001)\n",
    "svr_model.fit(X, y)\n",
    "\n",
    "Y_pred = svr_model.predict(x_test)\n",
    "\n",
    "submission = pd.DataFrame({'Y': Y_pred})\n",
    "submission['row_id'] = range(submission.shape[0])\n",
    "submission = submission[['row_id', 'Y']]\n",
    "submission.to_csv('submission.csv', index=False)\n",
    "print(\"Done!\")"
   ]
  }
 ],
 "metadata": {
  "kaggle": {
   "accelerator": "none",
   "dataSources": [
    {
     "databundleVersionId": 10325275,
     "sourceId": 89555,
     "sourceType": "competition"
    }
   ],
   "dockerImageVersionId": 30822,
   "isGpuEnabled": false,
   "isInternetEnabled": true,
   "language": "python",
   "sourceType": "notebook"
  },
  "kernelspec": {
   "display_name": "Python 3",
   "language": "python",
   "name": "python3"
  },
  "language_info": {
   "codemirror_mode": {
    "name": "ipython",
    "version": 3
   },
   "file_extension": ".py",
   "mimetype": "text/x-python",
   "name": "python",
   "nbconvert_exporter": "python",
   "pygments_lexer": "ipython3",
   "version": "3.10.12"
  },
  "papermill": {
   "default_parameters": {},
   "duration": 12.337276,
   "end_time": "2024-12-27T20:50:45.276672",
   "environment_variables": {},
   "exception": null,
   "input_path": "__notebook__.ipynb",
   "output_path": "__notebook__.ipynb",
   "parameters": {},
   "start_time": "2024-12-27T20:50:32.939396",
   "version": "2.6.0"
  }
 },
 "nbformat": 4,
 "nbformat_minor": 5
}
